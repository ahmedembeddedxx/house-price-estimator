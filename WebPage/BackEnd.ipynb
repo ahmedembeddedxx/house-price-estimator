{
  "nbformat": 4,
  "nbformat_minor": 0,
  "metadata": {
    "colab": {
      "provenance": []
    },
    "kernelspec": {
      "name": "python3",
      "display_name": "Python 3"
    },
    "language_info": {
      "name": "python"
    }
  },
  "cells": [
    {
      "cell_type": "code",
      "execution_count": null,
      "metadata": {
        "id": "FrFbBU-X625w"
      },
      "outputs": [],
      "source": [
        "import pandas as pd\n",
        "import matplotlib.pyplot as plt\n",
        "import numpy as np\n",
        "import seaborn as sns\n",
        "import statsmodels.api as sm\n",
        "import scipy.stats as stats\n",
        "\n",
        "\n",
        "from sklearn.model_selection import train_test_split\n",
        "from sklearn.ensemble import GradientBoostingRegressor\n",
        "from sklearn.metrics import r2_score, mean_squared_error, mean_absolute_error"
      ]
    },
    {
      "cell_type": "code",
      "source": [
        "csv_link = 'https://drive.google.com/file/d/1FUdTrrP8FEutHOMV6mPlgkoLl8yX4bfd/view?usp=sharing'\n",
        "\n",
        "file_id = csv_link.split('/')[-2]\n",
        "\n",
        "download_link = f'https://drive.google.com/uc?id={file_id}'\n",
        "\n",
        "data = pd.read_csv(download_link)\n",
        "data=data.dropna()"
      ],
      "metadata": {
        "id": "_vOyIvYo6-_O"
      },
      "execution_count": null,
      "outputs": []
    },
    {
      "cell_type": "code",
      "source": [
        "# Our targeted variable\n",
        "X = data.drop('price', axis=1)\n",
        "y = data['price']\n",
        "\n",
        "X_train, X_test, y_train, y_test = train_test_split(X, y, test_size=0.3, random_state=15)\n",
        "\n",
        "gb_regressor = GradientBoostingRegressor(n_estimators=100, learning_rate=0.1, max_depth=5, random_state=15)\n",
        "\n",
        "gb_regressor.fit(X_train, y_train)\n",
        "\n",
        "y_pred = gb_regressor.predict(X_test)"
      ],
      "metadata": {
        "id": "Xcwpx52T8GHX"
      },
      "execution_count": null,
      "outputs": []
    },
    {
      "cell_type": "code",
      "source": [
        "def get_value(input_col):\n",
        "\n",
        "    min_list = [290, 520, 290, 0, 1900, 0, 47.1559, -122.387, 399, 651]\n",
        "    max_list = [4230, 19141, 3740, 4820, 2015, 2015, 47.7776, -121.979, 3660, 17550]\n",
        "\n",
        "    bias = 1000000\n",
        "    if (input_col['sqft_living'] > 2000 or input_col['sqft_above'] > 2000):\n",
        "        bias *= 2\n",
        "    if (input_col['sqft_living'] > 3000 or input_col['sqft_above'] > 3000):\n",
        "        bias *= 2\n",
        "    if (input_col['sqft_living'] > 3500 or input_col['sqft_above'] > 3500):\n",
        "        bias *= 4\n",
        "    if (input_col['sqft_living'] > 5000 or input_col['sqft_above'] > 5000):\n",
        "        bias *= 2\n",
        "    if (input_col['sqft_living'] > 7000 or input_col['sqft_above'] > 7000):\n",
        "        bias *= 2\n",
        "\n",
        "    input_col['sqft_living']*=input_col['floors']\n",
        "\n",
        "    label_encoded_values = [int(input_col[col]) - 1 for col in ['floors', 'bedrooms', 'bathrooms', 'grade', 'condition']]\n",
        "\n",
        "    normalized_values = [(input_col[col] - min_val) / (max_val - min_val) for col, min_val, max_val in zip(\n",
        "        ['sqft_living', 'sqft_lot', 'sqft_above', 'sqft_basement', 'yr_built', 'yr_renovated', 'lat', 'long',\n",
        "         'sqft_living15', 'sqft_lot15'], min_list, max_list)]\n",
        "\n",
        "    result = label_encoded_values + normalized_values\n",
        "\n",
        "    columns_order = [\n",
        "        'bedrooms', 'bathrooms', 'sqft_living', 'sqft_lot', 'floors',\n",
        "        'condition', 'grade', 'sqft_above', 'sqft_basement', 'yr_built',\n",
        "        'yr_renovated', 'lat', 'long', 'sqft_living15', 'sqft_lot15'\n",
        "    ]\n",
        "\n",
        "    result = [result[columns_order.index(col)] for col in columns_order]\n",
        "\n",
        "    result_array = np.array(result).reshape(1, -1)\n",
        "    predicted_price = gb_regressor.predict(result_array)\n",
        "\n",
        "    # Adjusting the predicted price within the specified range\n",
        "    adjusted_price = ((predicted_price * (37207500 - 2475000)) + 2475000 + bias)[0]\n",
        "    # Rounding to the nearest hundred thousand and converting to int\n",
        "    rounded_price = int(round(adjusted_price / 100000) * 100000)\n",
        "\n",
        "    # Formatting the price with commas\n",
        "    formatted_price = '{:,}'.format(rounded_price)\n",
        "\n",
        "    return formatted_price"
      ],
      "metadata": {
        "id": "PI8BJNvq8hl5"
      },
      "execution_count": null,
      "outputs": []
    },
    {
      "cell_type": "code",
      "source": [
        "!pip install anvil-uplink\n",
        "import anvil.server\n",
        "\n",
        "anvil.server.connect(\"server_D7GASJG7U7YKXXA7FXX5VGGX-SGP5HQIIJUYSFPJP\")"
      ],
      "metadata": {
        "colab": {
          "base_uri": "https://localhost:8080/",
          "height": 342
        },
        "id": "ZNYFwNfuRdei",
        "outputId": "979fc982-1be6-4a25-d447-aa50fca0af6f"
      },
      "execution_count": null,
      "outputs": [
        {
          "output_type": "stream",
          "name": "stdout",
          "text": [
            "Requirement already satisfied: anvil-uplink in /usr/local/lib/python3.10/dist-packages (0.4.2)\n",
            "Collecting argparse (from anvil-uplink)\n",
            "  Using cached argparse-1.4.0-py2.py3-none-any.whl (23 kB)\n",
            "Requirement already satisfied: future in /usr/local/lib/python3.10/dist-packages (from anvil-uplink) (0.18.3)\n",
            "Requirement already satisfied: six in /usr/local/lib/python3.10/dist-packages (from anvil-uplink) (1.16.0)\n",
            "Requirement already satisfied: ws4py in /usr/local/lib/python3.10/dist-packages (from anvil-uplink) (0.5.1)\n",
            "Installing collected packages: argparse\n",
            "Successfully installed argparse-1.4.0\n"
          ]
        },
        {
          "output_type": "display_data",
          "data": {
            "application/vnd.colab-display-data+json": {
              "pip_warning": {
                "packages": [
                  "argparse"
                ]
              }
            }
          },
          "metadata": {}
        }
      ]
    },
    {
      "cell_type": "code",
      "source": [
        "from anvil import *\n",
        "\n",
        "import anvil.media\n",
        "\n",
        "@anvil.server.callable\n",
        "def pred_val(input_col):\n",
        "    try:\n",
        "        result = get_value(input_col)\n",
        "        return f\"Estimated Value: Rs.{result}\"\n",
        "    except Exception as e:\n",
        "        return \"Invalid Data\""
      ],
      "metadata": {
        "id": "d-sn1X8XRkJF"
      },
      "execution_count": null,
      "outputs": []
    },
    {
      "cell_type": "code",
      "source": [],
      "metadata": {
        "id": "IeqLfWQUeFjO"
      },
      "execution_count": null,
      "outputs": []
    }
  ]
}
